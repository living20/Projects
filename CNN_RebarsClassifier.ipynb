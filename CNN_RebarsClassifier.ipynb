{
  "nbformat": 4,
  "nbformat_minor": 0,
  "metadata": {
    "colab": {
      "provenance": [],
      "include_colab_link": true
    },
    "kernelspec": {
      "name": "python3",
      "display_name": "Python 3"
    },
    "language_info": {
      "name": "python"
    },
    "accelerator": "GPU",
    "gpuClass": "standard"
  },
  "cells": [
    {
      "cell_type": "markdown",
      "metadata": {
        "id": "view-in-github",
        "colab_type": "text"
      },
      "source": [
        "<a href=\"https://colab.research.google.com/github/RoyDibs/Rebars-and-debris-Classiffication/blob/master/CNN_RebarsClassifier.ipynb\" target=\"_parent\"><img src=\"https://colab.research.google.com/assets/colab-badge.svg\" alt=\"Open In Colab\"/></a>"
      ]
    },
    {
      "cell_type": "code",
      "execution_count": 1,
      "metadata": {
        "colab": {
          "base_uri": "https://localhost:8080/"
        },
        "id": "Z3y2hZgQYWWF",
        "outputId": "b60dedf6-f5a6-40df-b0b0-11a59a56ec72"
      },
      "outputs": [
        {
          "output_type": "stream",
          "name": "stdout",
          "text": [
            "Archive:  images2.zip\n",
            "   creating: images2/\n",
            "  inflating: images2/0.png           \n",
            "  inflating: images2/1.png           \n",
            "  inflating: images2/10.png          \n",
            "  inflating: images2/100.png         \n",
            "  inflating: images2/101.png         \n",
            "  inflating: images2/102.png         \n",
            "  inflating: images2/103.png         \n",
            "  inflating: images2/104.png         \n",
            "  inflating: images2/105.png         \n",
            "  inflating: images2/106.png         \n",
            "  inflating: images2/107.png         \n",
            "  inflating: images2/108.png         \n",
            "  inflating: images2/109.png         \n",
            "  inflating: images2/11.png          \n",
            "  inflating: images2/110.png         \n",
            "  inflating: images2/111.png         \n",
            "  inflating: images2/112.png         \n",
            "  inflating: images2/113.png         \n",
            "  inflating: images2/114.png         \n",
            "  inflating: images2/115.png         \n",
            "  inflating: images2/116.png         \n",
            "  inflating: images2/117.png         \n",
            "  inflating: images2/118.png         \n",
            "  inflating: images2/119.png         \n",
            "  inflating: images2/12.png          \n",
            "  inflating: images2/120.png         \n",
            "  inflating: images2/121.png         \n",
            "  inflating: images2/122.png         \n",
            "  inflating: images2/123.png         \n",
            "  inflating: images2/124.png         \n",
            "  inflating: images2/125.png         \n",
            "  inflating: images2/126.png         \n",
            "  inflating: images2/127.png         \n",
            "  inflating: images2/128.png         \n",
            "  inflating: images2/129.png         \n",
            "  inflating: images2/13.png          \n",
            "  inflating: images2/130.png         \n",
            "  inflating: images2/131.png         \n",
            "  inflating: images2/132.png         \n",
            "  inflating: images2/133.png         \n",
            "  inflating: images2/134.png         \n",
            "  inflating: images2/135.png         \n",
            "  inflating: images2/136.png         \n",
            "  inflating: images2/137.png         \n",
            "  inflating: images2/138.png         \n",
            "  inflating: images2/139.png         \n",
            "  inflating: images2/14.png          \n",
            "  inflating: images2/140.png         \n",
            "  inflating: images2/141.png         \n",
            "  inflating: images2/142.png         \n",
            "  inflating: images2/143.png         \n",
            "  inflating: images2/144.png         \n",
            "  inflating: images2/145.png         \n",
            "  inflating: images2/146.png         \n",
            "  inflating: images2/147.png         \n",
            "  inflating: images2/148.png         \n",
            "  inflating: images2/149.png         \n",
            "  inflating: images2/15.png          \n",
            "  inflating: images2/150.png         \n",
            "  inflating: images2/151.png         \n",
            "  inflating: images2/152.png         \n",
            "  inflating: images2/153.png         \n",
            "  inflating: images2/154.png         \n",
            "  inflating: images2/155.png         \n",
            "  inflating: images2/156.png         \n",
            "  inflating: images2/157.png         \n",
            "  inflating: images2/158.png         \n",
            "  inflating: images2/159.png         \n",
            "  inflating: images2/16.png          \n",
            "  inflating: images2/160.png         \n",
            "  inflating: images2/161.png         \n",
            "  inflating: images2/162.png         \n",
            "  inflating: images2/163.png         \n",
            "  inflating: images2/164.png         \n",
            "  inflating: images2/165.png         \n",
            "  inflating: images2/166.png         \n",
            "  inflating: images2/167.png         \n",
            "  inflating: images2/168.png         \n",
            "  inflating: images2/169.png         \n",
            "  inflating: images2/17.png          \n",
            "  inflating: images2/170.png         \n",
            "  inflating: images2/171.png         \n",
            "  inflating: images2/172.png         \n",
            "  inflating: images2/173.png         \n",
            "  inflating: images2/174.png         \n",
            "  inflating: images2/175.png         \n",
            "  inflating: images2/176.png         \n",
            "  inflating: images2/177.png         \n",
            "  inflating: images2/178.png         \n",
            "  inflating: images2/179.png         \n",
            "  inflating: images2/18.png          \n",
            "  inflating: images2/180.png         \n",
            "  inflating: images2/181.png         \n",
            "  inflating: images2/182.png         \n",
            "  inflating: images2/183.png         \n",
            "  inflating: images2/184.png         \n",
            "  inflating: images2/185.png         \n",
            "  inflating: images2/186.png         \n",
            "  inflating: images2/187.png         \n",
            "  inflating: images2/188.png         \n",
            "  inflating: images2/189.png         \n",
            "  inflating: images2/19.png          \n",
            "  inflating: images2/190.png         \n",
            "  inflating: images2/191.png         \n",
            "  inflating: images2/192.png         \n",
            "  inflating: images2/193.png         \n",
            "  inflating: images2/194.png         \n",
            "  inflating: images2/195.png         \n",
            "  inflating: images2/196.png         \n",
            "  inflating: images2/197.png         \n",
            "  inflating: images2/198.png         \n",
            "  inflating: images2/199.png         \n",
            "  inflating: images2/2.png           \n",
            "  inflating: images2/20.png          \n",
            "  inflating: images2/200.png         \n",
            "  inflating: images2/21.png          \n",
            "  inflating: images2/22.png          \n",
            "  inflating: images2/23.png          \n",
            "  inflating: images2/24.png          \n",
            "  inflating: images2/25.png          \n",
            "  inflating: images2/26.png          \n",
            "  inflating: images2/27.png          \n",
            "  inflating: images2/28.png          \n",
            "  inflating: images2/29.png          \n",
            "  inflating: images2/3.png           \n",
            "  inflating: images2/30.png          \n",
            "  inflating: images2/31.png          \n",
            "  inflating: images2/32.png          \n",
            "  inflating: images2/33.png          \n",
            "  inflating: images2/34.png          \n",
            "  inflating: images2/35.png          \n",
            "  inflating: images2/36.png          \n",
            "  inflating: images2/37.png          \n",
            "  inflating: images2/38.png          \n",
            "  inflating: images2/39.png          \n",
            "  inflating: images2/4.png           \n",
            "  inflating: images2/40.png          \n",
            "  inflating: images2/41.png          \n",
            "  inflating: images2/42.png          \n",
            "  inflating: images2/43.png          \n",
            "  inflating: images2/44.png          \n",
            "  inflating: images2/45.png          \n",
            "  inflating: images2/46.png          \n",
            "  inflating: images2/47.png          \n",
            "  inflating: images2/48.png          \n",
            "  inflating: images2/49.png          \n",
            "  inflating: images2/5.png           \n",
            "  inflating: images2/50.png          \n",
            "  inflating: images2/51.png          \n",
            "  inflating: images2/52.png          \n",
            "  inflating: images2/53.png          \n",
            "  inflating: images2/54.png          \n",
            "  inflating: images2/55.png          \n",
            "  inflating: images2/56.png          \n",
            "  inflating: images2/57.png          \n",
            "  inflating: images2/58.png          \n",
            "  inflating: images2/59.png          \n",
            "  inflating: images2/6.png           \n",
            "  inflating: images2/60.png          \n",
            "  inflating: images2/61.png          \n",
            "  inflating: images2/62.png          \n",
            "  inflating: images2/63.png          \n",
            "  inflating: images2/64.png          \n",
            "  inflating: images2/65.png          \n",
            "  inflating: images2/66.png          \n",
            "  inflating: images2/67.png          \n",
            "  inflating: images2/68.png          \n",
            "  inflating: images2/69.png          \n",
            "  inflating: images2/7.png           \n",
            "  inflating: images2/70.png          \n",
            "  inflating: images2/71.png          \n",
            "  inflating: images2/72.png          \n",
            "  inflating: images2/73.png          \n",
            "  inflating: images2/74.png          \n",
            "  inflating: images2/75.png          \n",
            "  inflating: images2/76.png          \n",
            "  inflating: images2/77.png          \n",
            "  inflating: images2/78.png          \n",
            "  inflating: images2/79.png          \n",
            "  inflating: images2/8.png           \n",
            "  inflating: images2/80.png          \n",
            "  inflating: images2/81.png          \n",
            "  inflating: images2/82.png          \n",
            "  inflating: images2/83.png          \n",
            "  inflating: images2/84.png          \n",
            "  inflating: images2/85.png          \n",
            "  inflating: images2/86.png          \n",
            "  inflating: images2/87.png          \n",
            "  inflating: images2/88.png          \n",
            "  inflating: images2/89.png          \n",
            "  inflating: images2/9.png           \n",
            "  inflating: images2/90.png          \n",
            "  inflating: images2/91.png          \n",
            "  inflating: images2/92.png          \n",
            "  inflating: images2/93.png          \n",
            "  inflating: images2/94.png          \n",
            "  inflating: images2/95.png          \n",
            "  inflating: images2/96.png          \n",
            "  inflating: images2/97.png          \n",
            "  inflating: images2/98.png          \n",
            "  inflating: images2/99.png          \n"
          ]
        }
      ],
      "source": [
        "# importing the libraries\n",
        "import pandas as pd\n",
        "import numpy as np\n",
        "\n",
        "# for reading and augmenting images\n",
        "from skimage.io import imread\n",
        "from skimage.transform import rotate, resize\n",
        "\n",
        "# for splitting train-test set and evaluating the model\n",
        "from sklearn.model_selection import train_test_split\n",
        "from sklearn.metrics import accuracy_score\n",
        "\n",
        "# PyTorch libraries \n",
        "import torch\n",
        "import torch.nn as nn\n",
        "from torch.nn import Linear, ReLU, CrossEntropyLoss, Sequential, Conv2d, MaxPool2d, Module, Softmax, BatchNorm2d, Dropout\n",
        "from torch.optim import Adam\n",
        "\n",
        "!unzip images2.zip"
      ]
    },
    {
      "cell_type": "code",
      "source": [
        "train = pd.read_csv('/content/rebars2.csv')\n",
        "\n",
        "# loading training images\n",
        "train_img = []\n",
        "train_img_values = []\n",
        "for img_name in train['image_names']:\n",
        "    image_path = '/content/images2/' + img_name\n",
        "    img = imread(image_path)\n",
        "    img = img/255\n",
        "    img = resize(img, output_shape=(3, 224, 224),\n",
        "                 mode='constant', anti_aliasing=True)\n",
        "    train_img.append(img)\n",
        "\n",
        "\n",
        "train_x = np.array(train_img)\n",
        "\n",
        "# defining the labels\n",
        "train_y = train['rebars_or_not'].values\n",
        "\n",
        "train_x, test_x, train_y, test_y = train_test_split(train_x, train_y, test_size=0.2, random_state=13, stratify=train_y)\n",
        "print(\"Number of images (Before Image Augmentation) in Training set : \",train_x.shape[0],\"  Number of images in Testing set : \",test_x.shape[0])"
      ],
      "metadata": {
        "colab": {
          "base_uri": "https://localhost:8080/"
        },
        "id": "cSm3PNbuYes4",
        "outputId": "2534e365-3098-4b0d-d75d-31568fae9994"
      },
      "execution_count": 2,
      "outputs": [
        {
          "output_type": "stream",
          "name": "stdout",
          "text": [
            "Number of images (Before Image Augmentation) in Training set :  160   Number of images in Testing set :  41\n"
          ]
        }
      ]
    },
    {
      "cell_type": "code",
      "source": [
        "# Image Augmentation\n",
        "final_train_x = []\n",
        "final_train_y = []\n",
        "\n",
        "#train_x.shape[0]\n",
        "for i in range(train_x.shape[0]):\n",
        "    final_train_x.append(train_x[i])\n",
        "    final_train_x.append(rotate(train_x[i], angle=45, mode = 'wrap'))\n",
        "    final_train_x.append(np.fliplr(train_x[i]))\n",
        "    for j in range(3):\n",
        "      final_train_y.append(train_y[i])\n",
        "\n",
        "train_x = np.array(final_train_x)\n",
        "train_y = np.array(final_train_y)\n",
        "print(\"Number of images (After Image Augmentation) in Training set : \",train_x.shape[0],\"  Number of images in Testing set : \",test_x.shape[0])"
      ],
      "metadata": {
        "colab": {
          "base_uri": "https://localhost:8080/"
        },
        "id": "eYnlTuZT1L82",
        "outputId": "b86eaa04-1877-478d-c6c8-e65433c532c8"
      },
      "execution_count": 4,
      "outputs": [
        {
          "output_type": "stream",
          "name": "stdout",
          "text": [
            "Number of images (After Image Augmentation) in Training set :  1440   Number of images in Testing set :  41\n"
          ]
        }
      ]
    },
    {
      "cell_type": "code",
      "source": [
        "# train_x = train_x.numpy()\n",
        "# train_y = train_y.numpy()\n",
        "# test_x = test_x.numpy()\n",
        "# test_y = test_y.numpy()\n",
        "# converting training images and its labels into torch format\n",
        "train_x = train_x.reshape(train_x.shape[0], 3, 224, 224) #1956 is the number of training images\n",
        "train_x  = torch.from_numpy(train_x)\n",
        "train_x = train_x.float()\n",
        "train_y = train_y.astype(int)\n",
        "train_y = torch.from_numpy(train_y)\n",
        "\n",
        "\n",
        "# converting test images and its labels into torch format\n",
        "test_x = test_x.reshape(test_x.shape[0], 3, 224, 224) #164 is the number of test images\n",
        "test_x  = torch.from_numpy(test_x)\n",
        "test_x = test_x.float()\n",
        "test_y = test_y.astype(int)\n",
        "test_y = torch.from_numpy(test_y)"
      ],
      "metadata": {
        "id": "ubEaV5rn5jwj"
      },
      "execution_count": 5,
      "outputs": []
    },
    {
      "cell_type": "code",
      "source": [
        "# Define the model\n",
        "class Net(Module):   \n",
        "    def __init__(self):\n",
        "        super(Net, self).__init__()\n",
        "\n",
        "        self.cnn_layers = Sequential(\n",
        "            Conv2d(3, 32, kernel_size=3, stride=1, padding=1),\n",
        "            ReLU(inplace=True),\n",
        "            BatchNorm2d(32),\n",
        "            MaxPool2d(kernel_size=2, stride=2),\n",
        "            Dropout(p=0.25),\n",
        "            Conv2d(32, 64, kernel_size=3, stride=1, padding=1),\n",
        "            ReLU(inplace=True),\n",
        "            BatchNorm2d(64),\n",
        "            MaxPool2d(kernel_size=2, stride=2),\n",
        "            Dropout(p=0.25),\n",
        "            Conv2d(64, 128, kernel_size=3, stride=1, padding=1),\n",
        "            ReLU(inplace=True),\n",
        "            BatchNorm2d(128),\n",
        "            MaxPool2d(kernel_size=2, stride=2),\n",
        "            Dropout(p=0.25),\n",
        "            Conv2d(128, 128, kernel_size=3, stride=1, padding=1),\n",
        "            ReLU(inplace=True),\n",
        "            BatchNorm2d(128),\n",
        "            MaxPool2d(kernel_size=2, stride=2),\n",
        "            Dropout(p=0.25),\n",
        "        )\n",
        "\n",
        "        self.linear_layers = Sequential(\n",
        "            Linear(128 * 14 * 14, 512),\n",
        "            ReLU(inplace=True),\n",
        "            Dropout(),\n",
        "            Linear(512, 256),\n",
        "            ReLU(inplace=True),\n",
        "            Dropout(),\n",
        "            Linear(256,10),\n",
        "            ReLU(inplace=True),\n",
        "            Dropout(),\n",
        "            Linear(10,2)\n",
        "        )\n",
        "\n",
        "    # Defining the forward pass    \n",
        "    def forward(self, x):\n",
        "        x = self.cnn_layers(x)\n",
        "        x = x.view(x.size(0), -1)\n",
        "        x = self.linear_layers(x)\n",
        "        return x"
      ],
      "metadata": {
        "id": "l_C2E5BfAyiJ"
      },
      "execution_count": 6,
      "outputs": []
    },
    {
      "cell_type": "code",
      "source": [
        "model = Net()\n",
        "optimizer = Adam(model.parameters(), lr=0.000075)\n",
        "criterion = CrossEntropyLoss()\n",
        "\n",
        "# checking if GPU is available\n",
        "if torch.cuda.is_available():\n",
        "    model = model.cuda()\n",
        "    criterion = criterion.cuda()"
      ],
      "metadata": {
        "id": "FL_6OCT58YRZ"
      },
      "execution_count": 7,
      "outputs": []
    },
    {
      "cell_type": "code",
      "source": [
        "# batch size of the model\n",
        "batch_size = 32\n",
        "\n",
        "# number of epochs to train the model\n",
        "n_epochs = 50\n",
        "train_loss1 = np.empty(0)\n",
        "prediction = []\n",
        "target = []\n",
        "accuracy = []\n",
        "arrc = np.empty(0)\n",
        "\n",
        "for epoch in range(1, n_epochs+1):\n",
        "\n",
        "    train_loss = 0.0\n",
        "    permutation = torch.randperm(train_x.size()[0])\n",
        "    training_loss = []\n",
        "    for i in range(0,train_x.size()[0], batch_size):\n",
        "\n",
        "        indices = permutation[i:i+batch_size]\n",
        "        batch_x, batch_y = train_x[indices], train_y[indices]\n",
        "        \n",
        "        if torch.cuda.is_available():\n",
        "            batch_x, batch_y = batch_x.cuda(), batch_y.cuda()\n",
        "        \n",
        "        optimizer.zero_grad()\n",
        "        outputs = model(batch_x)\n",
        "        loss = criterion(outputs,batch_y)\n",
        "\n",
        "        training_loss.append(loss.item())\n",
        "        loss.backward()\n",
        "        optimizer.step()\n",
        "\n",
        "        with torch.no_grad():\n",
        "            output = model(batch_x.cuda())\n",
        "\n",
        "        softmax = torch.exp(output).cpu()\n",
        "        prob = list(softmax.numpy())\n",
        "        predictions = np.argmax(prob, axis=1)\n",
        "        prediction.append(predictions)\n",
        "        target.append(batch_y) \n",
        "        \n",
        "        for i in range(len(prediction)):\n",
        "            accuracy.append(accuracy_score(target[i].cpu(),prediction[i]))\n",
        "\n",
        "    arrc = np.append(arrc, np.average(accuracy))\n",
        "    training_loss = np.average(training_loss)\n",
        "    print('epoch: \\t', epoch, '\\t training loss: \\t', training_loss, '\\t accuracy: \\t',np.average(accuracy))\n",
        "    train_loss1 = np.append(train_loss1, training_loss)\n"
      ],
      "metadata": {
        "colab": {
          "base_uri": "https://localhost:8080/"
        },
        "id": "e-J92jjc8bFK",
        "outputId": "95070bf3-8e07-4317-8867-f1e9a48badcd"
      },
      "execution_count": 8,
      "outputs": [
        {
          "output_type": "stream",
          "name": "stdout",
          "text": [
            "epoch: \t 1 \t training loss: \t 0.6933013002077738 \t accuracy: \t 0.5502717391304348\n",
            "epoch: \t 2 \t training loss: \t 0.6970394372940063 \t accuracy: \t 0.5517780830280831\n",
            "epoch: \t 3 \t training loss: \t 0.6818202217419942 \t accuracy: \t 0.5518654684095861\n",
            "epoch: \t 4 \t training loss: \t 0.6727968586815728 \t accuracy: \t 0.5522617403314917\n",
            "epoch: \t 5 \t training loss: \t 0.6826399207115174 \t accuracy: \t 0.5553183382497542\n",
            "epoch: \t 6 \t training loss: \t 0.6596785797013177 \t accuracy: \t 0.5575398045647123\n",
            "epoch: \t 7 \t training loss: \t 0.6562838580873277 \t accuracy: \t 0.5601592324693591\n",
            "epoch: \t 8 \t training loss: \t 0.6511792461077373 \t accuracy: \t 0.5624297860880271\n",
            "epoch: \t 9 \t training loss: \t 0.6290900998645359 \t accuracy: \t 0.5653728030164812\n",
            "epoch: \t 10 \t training loss: \t 0.635421437687344 \t accuracy: \t 0.5682575757575757\n",
            "epoch: \t 11 \t training loss: \t 0.6071242829163869 \t accuracy: \t 0.57119404732812\n",
            "epoch: \t 12 \t training loss: \t 0.6068555573622386 \t accuracy: \t 0.5743579704935989\n",
            "epoch: \t 13 \t training loss: \t 0.5821469214227465 \t accuracy: \t 0.5774649222601441\n",
            "epoch: \t 14 \t training loss: \t 0.5580789877308739 \t accuracy: \t 0.5807538110331296\n",
            "epoch: \t 15 \t training loss: \t 0.5368258019288381 \t accuracy: \t 0.5842718606180145\n",
            "epoch: \t 16 \t training loss: \t 0.516635865635342 \t accuracy: \t 0.5879467897595931\n",
            "epoch: \t 17 \t training loss: \t 0.49236788948376975 \t accuracy: \t 0.5917898556289356\n",
            "epoch: \t 18 \t training loss: \t 0.45064123868942263 \t accuracy: \t 0.595874720281317\n",
            "epoch: \t 19 \t training loss: \t 0.4299744062953525 \t accuracy: \t 0.6001861643985352\n",
            "epoch: \t 20 \t training loss: \t 0.398547273212009 \t accuracy: \t 0.6045968985078308\n",
            "epoch: \t 21 \t training loss: \t 0.3988983237081104 \t accuracy: \t 0.6091133511191651\n",
            "epoch: \t 22 \t training loss: \t 0.36054210662841796 \t accuracy: \t 0.6137564469110887\n",
            "epoch: \t 23 \t training loss: \t 0.3708815077940623 \t accuracy: \t 0.6184700422472161\n",
            "epoch: \t 24 \t training loss: \t 0.3254873166481654 \t accuracy: \t 0.6231992196868469\n",
            "epoch: \t 25 \t training loss: \t 0.2785155081086689 \t accuracy: \t 0.6279776001578844\n",
            "epoch: \t 26 \t training loss: \t 0.2823795199394226 \t accuracy: \t 0.6327800769303759\n",
            "epoch: \t 27 \t training loss: \t 0.2541187793016434 \t accuracy: \t 0.6375710688758934\n",
            "epoch: \t 28 \t training loss: \t 0.2374663848015997 \t accuracy: \t 0.642363707312161\n",
            "epoch: \t 29 \t training loss: \t 0.24369279328319762 \t accuracy: \t 0.6471412519875845\n",
            "epoch: \t 30 \t training loss: \t 0.21664657675557666 \t accuracy: \t 0.6518842695397099\n",
            "epoch: \t 31 \t training loss: \t 0.24968736817439396 \t accuracy: \t 0.6565820418810528\n",
            "epoch: \t 32 \t training loss: \t 0.1718526972664727 \t accuracy: \t 0.6612205367125453\n",
            "epoch: \t 33 \t training loss: \t 0.16617199463976753 \t accuracy: \t 0.6658129919654145\n",
            "epoch: \t 34 \t training loss: \t 0.16827473590771358 \t accuracy: \t 0.6703410294010921\n",
            "epoch: \t 35 \t training loss: \t 0.14722893457445835 \t accuracy: \t 0.6748083605269519\n",
            "epoch: \t 36 \t training loss: \t 0.15275656754771869 \t accuracy: \t 0.6792030572882156\n",
            "epoch: \t 37 \t training loss: \t 0.12304086304373212 \t accuracy: \t 0.6835197367235183\n",
            "epoch: \t 38 \t training loss: \t 0.13366482737991545 \t accuracy: \t 0.6877605902297141\n",
            "epoch: \t 39 \t training loss: \t 0.12704122844669555 \t accuracy: \t 0.6919146159037959\n",
            "epoch: \t 40 \t training loss: \t 0.1169338391886817 \t accuracy: \t 0.6959883783700413\n",
            "epoch: \t 41 \t training loss: \t 0.09920073101917902 \t accuracy: \t 0.6999810437568081\n",
            "epoch: \t 42 \t training loss: \t 0.09663279927853081 \t accuracy: \t 0.7038954711680783\n",
            "epoch: \t 43 \t training loss: \t 0.0963543521033393 \t accuracy: \t 0.7077345201486323\n",
            "epoch: \t 44 \t training loss: \t 0.10443155720002122 \t accuracy: \t 0.7115021842605764\n",
            "epoch: \t 45 \t training loss: \t 0.09729365882360273 \t accuracy: \t 0.715195849024411\n",
            "epoch: \t 46 \t training loss: \t 0.09504156667325232 \t accuracy: \t 0.7188122963305085\n",
            "epoch: \t 47 \t training loss: \t 0.10576718598604203 \t accuracy: \t 0.7223531619943959\n",
            "epoch: \t 48 \t training loss: \t 0.08366419653304749 \t accuracy: \t 0.7258170808910483\n",
            "epoch: \t 49 \t training loss: \t 0.07348102484312323 \t accuracy: \t 0.7292087339620043\n",
            "epoch: \t 50 \t training loss: \t 0.06548153315153386 \t accuracy: \t 0.732529604126561\n"
          ]
        }
      ]
    },
    {
      "cell_type": "code",
      "source": [
        "# checking the performance on validation set\n",
        "torch.manual_seed(0)\n",
        "n_epochs = 50\n",
        "val_loss1 = np.empty(0)\n",
        "prediction = []\n",
        "target = []\n",
        "accuracy = []\n",
        "val_arrc = np.empty(0)\n",
        "\n",
        "for epoch in range(1, n_epochs+1):\n",
        "\n",
        "    val_loss = 0.0\n",
        "    permutation = torch.randperm(test_x.size()[0])\n",
        "    validation_loss = []\n",
        "    for i in range(0,test_x.size()[0], batch_size):\n",
        "        indices = permutation[i:i+batch_size]\n",
        "        batch_x, batch_y = test_x[indices], test_y[indices]\n",
        "        \n",
        "        if torch.cuda.is_available():\n",
        "            batch_x, batch_y = batch_x.cuda(), batch_y.cuda()\n",
        "        \n",
        "        optimizer.zero_grad()\n",
        "        outputs = model(batch_x)\n",
        "        loss = criterion(outputs,batch_y)\n",
        "\n",
        "        validation_loss.append(loss.item())\n",
        "        loss.backward()\n",
        "        optimizer.step()\n",
        "\n",
        "        with torch.no_grad():\n",
        "            output = model(batch_x.cuda())\n",
        "\n",
        "        softmax = torch.exp(output).cpu()\n",
        "        prob = list(softmax.numpy())\n",
        "        predictions = np.argmax(prob, axis=1)\n",
        "        prediction.append(predictions)\n",
        "        target.append(batch_y) \n",
        "        \n",
        "        for i in range(len(prediction)):\n",
        "            accuracy.append(accuracy_score(target[i].cpu(),prediction[i]))\n",
        "\n",
        "    val_arrc = np.append(val_arrc, np.average(accuracy))\n",
        "    validation_loss = np.average(validation_loss)\n",
        "    print('epoch: \\t', epoch, '\\t validation loss: \\t', validation_loss, '\\t Val accuracy: \\t',np.average(accuracy))\n",
        "    val_loss1 = np.append(val_loss1, validation_loss)"
      ],
      "metadata": {
        "colab": {
          "base_uri": "https://localhost:8080/"
        },
        "id": "SGY_-wRh8d3r",
        "outputId": "850aa9eb-8bd1-4ee7-94ca-0c186ce38a43"
      },
      "execution_count": 9,
      "outputs": [
        {
          "output_type": "stream",
          "name": "stdout",
          "text": [
            "epoch: \t 1 \t validation loss: \t 4.140457630157471 \t Val accuracy: \t 0.6064814814814815\n",
            "epoch: \t 2 \t validation loss: \t 1.4774133563041687 \t Val accuracy: \t 0.6250000000000001\n",
            "epoch: \t 3 \t validation loss: \t 1.2840062975883484 \t Val accuracy: \t 0.6577380952380952\n",
            "epoch: \t 4 \t validation loss: \t 0.3701983764767647 \t Val accuracy: \t 0.6851851851851852\n",
            "epoch: \t 5 \t validation loss: \t 0.3696604520082474 \t Val accuracy: \t 0.7079545454545453\n",
            "epoch: \t 6 \t validation loss: \t 0.40048351138830185 \t Val accuracy: \t 0.7273860398860398\n",
            "epoch: \t 7 \t validation loss: \t 0.5160999372601509 \t Val accuracy: \t 0.7425264550264551\n",
            "epoch: \t 8 \t validation loss: \t 0.4252553917467594 \t Val accuracy: \t 0.7519403594771241\n",
            "epoch: \t 9 \t validation loss: \t 0.21801019459962845 \t Val accuracy: \t 0.7622238466536712\n",
            "epoch: \t 10 \t validation loss: \t 0.20816372334957123 \t Val accuracy: \t 0.7719907407407407\n",
            "epoch: \t 11 \t validation loss: \t 0.191034696996212 \t Val accuracy: \t 0.7810166886253843\n",
            "epoch: \t 12 \t validation loss: \t 0.14402196183800697 \t Val accuracy: \t 0.7892592592592592\n",
            "epoch: \t 13 \t validation loss: \t 0.17558584362268448 \t Val accuracy: \t 0.796968977524533\n",
            "epoch: \t 14 \t validation loss: \t 0.07713183388113976 \t Val accuracy: \t 0.8039648330596607\n",
            "epoch: \t 15 \t validation loss: \t 0.17709407582879066 \t Val accuracy: \t 0.8105585424133811\n",
            "epoch: \t 16 \t validation loss: \t 0.10631133988499641 \t Val accuracy: \t 0.8166166877104377\n",
            "epoch: \t 17 \t validation loss: \t 0.06208709254860878 \t Val accuracy: \t 0.8225840336134453\n",
            "epoch: \t 18 \t validation loss: \t 0.1447930708527565 \t Val accuracy: \t 0.8283804637971305\n",
            "epoch: \t 19 \t validation loss: \t 0.22009005025029182 \t Val accuracy: \t 0.8338112910481331\n",
            "epoch: \t 20 \t validation loss: \t 0.10872158035635948 \t Val accuracy: \t 0.8386856368563687\n",
            "epoch: \t 21 \t validation loss: \t 0.16062883287668228 \t Val accuracy: \t 0.8432078257659654\n",
            "epoch: \t 22 \t validation loss: \t 0.058495813980698586 \t Val accuracy: \t 0.8474607182940516\n",
            "epoch: \t 23 \t validation loss: \t 0.10966098308563232 \t Val accuracy: \t 0.8515199403844177\n",
            "epoch: \t 24 \t validation loss: \t 0.08803524076938629 \t Val accuracy: \t 0.855347694633409\n",
            "epoch: \t 25 \t validation loss: \t 0.12906889989972115 \t Val accuracy: \t 0.8589106753812638\n",
            "epoch: \t 26 \t validation loss: \t 0.06306859664618969 \t Val accuracy: \t 0.862360909530721\n",
            "epoch: \t 27 \t validation loss: \t 0.07819524593651295 \t Val accuracy: \t 0.865693976805088\n",
            "epoch: \t 28 \t validation loss: \t 0.07720300555229187 \t Val accuracy: \t 0.8688300612642719\n",
            "epoch: \t 29 \t validation loss: \t 0.07305701449513435 \t Val accuracy: \t 0.871822033898305\n",
            "epoch: \t 30 \t validation loss: \t 0.08023222163319588 \t Val accuracy: \t 0.8747115968427445\n",
            "epoch: \t 31 \t validation loss: \t 0.20827893167734146 \t Val accuracy: \t 0.8774677134892188\n",
            "epoch: \t 32 \t validation loss: \t 0.06352318450808525 \t Val accuracy: \t 0.8801282051282051\n",
            "epoch: \t 33 \t validation loss: \t 0.0881345085799694 \t Val accuracy: \t 0.8826951103070505\n",
            "epoch: \t 34 \t validation loss: \t 0.04534471593797207 \t Val accuracy: \t 0.8851709766032018\n",
            "epoch: \t 35 \t validation loss: \t 0.06144152767956257 \t Val accuracy: \t 0.8875335345405767\n",
            "epoch: \t 36 \t validation loss: \t 0.09866438433527946 \t Val accuracy: \t 0.8897714780991036\n",
            "epoch: \t 37 \t validation loss: \t 0.02814298402518034 \t Val accuracy: \t 0.8918943943943943\n",
            "epoch: \t 38 \t validation loss: \t 0.0516376665327698 \t Val accuracy: \t 0.8939488873699399\n",
            "epoch: \t 39 \t validation loss: \t 0.08677998185157776 \t Val accuracy: \t 0.8959167297774893\n",
            "epoch: \t 40 \t validation loss: \t 0.05430288799107075 \t Val accuracy: \t 0.8978030692729768\n",
            "epoch: \t 41 \t validation loss: \t 0.03743614139966667 \t Val accuracy: \t 0.899598393574297\n",
            "epoch: \t 42 \t validation loss: \t 0.02085806569084525 \t Val accuracy: \t 0.9012605042016807\n",
            "epoch: \t 43 \t validation loss: \t 0.04598605819046497 \t Val accuracy: \t 0.9028483174433455\n",
            "epoch: \t 44 \t validation loss: \t 0.02888234704732895 \t Val accuracy: \t 0.9043507405515833\n",
            "epoch: \t 45 \t validation loss: \t 0.041579101234674454 \t Val accuracy: \t 0.9057743182743183\n",
            "epoch: \t 46 \t validation loss: \t 0.05381704494357109 \t Val accuracy: \t 0.9071655368552284\n",
            "epoch: \t 47 \t validation loss: \t 0.021829436940606683 \t Val accuracy: \t 0.9085246360582306\n",
            "epoch: \t 48 \t validation loss: \t 0.030974232591688633 \t Val accuracy: \t 0.9098385595647193\n",
            "epoch: \t 49 \t validation loss: \t 0.026318262796849012 \t Val accuracy: \t 0.9111093932522505\n",
            "epoch: \t 50 \t validation loss: \t 0.04171990044414997 \t Val accuracy: \t 0.9123514851485148\n"
          ]
        }
      ]
    },
    {
      "cell_type": "code",
      "source": [
        "import matplotlib.pyplot as plt\n",
        "# plot loss and accuracy curves\n",
        "\n",
        "plt.figure(figsize=(10, 5))\n",
        "plt.title('Epoch vs Losses')\n",
        "plt.plot(range(1, n_epochs+1), train_loss1, label='Training Loss')\n",
        "plt.plot(range(1, n_epochs+1), val_loss1, label='Test Loss')\n",
        "plt.xlabel('Epoch')\n",
        "plt.ylabel('Loss')\n",
        "plt.legend()\n",
        "plt.grid()\n",
        "plt.show()"
      ],
      "metadata": {
        "colab": {
          "base_uri": "https://localhost:8080/",
          "height": 487
        },
        "id": "HEzSQSHXBAYJ",
        "outputId": "292b6e16-6beb-4658-af05-0b29fc3da52f"
      },
      "execution_count": 10,
      "outputs": [
        {
          "output_type": "display_data",
          "data": {
            "text/plain": [
              "<Figure size 1000x500 with 1 Axes>"
            ],
            "image/png": "[encoded data removed]"
          },
          "metadata": {}
        }
      ]
    },
    {
      "cell_type": "code",
      "source": [
        "import matplotlib.pyplot as plt\n",
        "# plot loss and accuracy curves\n",
        "\n",
        "plt.figure(figsize=(10, 5))\n",
        "plt.title('Epoch vs accuracy')\n",
        "plt.plot(range(1, n_epochs+1), arrc, label='Test Accuracy')\n",
        "plt.plot(range(1, n_epochs+1), val_arrc, label='Validation Accuracy')\n",
        "plt.xlabel('Epoch')\n",
        "plt.ylabel('Accuracy')\n",
        "plt.legend()\n",
        "plt.grid()\n",
        "plt.show()"
      ],
      "metadata": {
        "id": "4RZD9X5KoIV5",
        "outputId": "1dd7a29e-d1d5-41de-dcef-ee4bdc5aced0",
        "colab": {
          "base_uri": "https://localhost:8080/",
          "height": 487
        }
      },
      "execution_count": 11,
      "outputs": [
        {
          "output_type": "display_data",
          "data": {
            "text/plain": [
              "<Figure size 1000x500 with 1 Axes>"
            ],
            "image/png": "[encoded data removed]"
          },
          "metadata": {}
        }
      ]
    },
    {
      "cell_type": "code",
      "source": [
        "!unzip check_set.zip"
      ],
      "metadata": {
        "id": "Zk3akETT1APY",
        "outputId": "066a2c91-9820-4116-c29d-dc6c2b21ae8c",
        "colab": {
          "base_uri": "https://localhost:8080/"
        }
      },
      "execution_count": 18,
      "outputs": [
        {
          "output_type": "stream",
          "name": "stdout",
          "text": [
            "Archive:  check_set.zip\n",
            "   creating: check_set/\n",
            "   creating: check_set/debris/\n",
            "  inflating: check_set/debris/125.png  \n",
            "  inflating: check_set/debris/134.png  \n",
            "  inflating: check_set/debris/145.png  \n",
            "  inflating: check_set/debris/151.png  \n",
            "  inflating: check_set/debris/98.png  \n",
            "  inflating: check_set/debris/debristest.jpeg  \n",
            "   creating: check_set/rebars/\n",
            "  inflating: check_set/rebars/11.png  \n",
            "  inflating: check_set/rebars/14.png  \n",
            "  inflating: check_set/rebars/21.png  \n",
            "  inflating: check_set/rebars/43.png  \n",
            "  inflating: check_set/rebars/8.png  \n",
            "  inflating: check_set/rebars/rebarstest.jpg  \n"
          ]
        }
      ]
    },
    {
      "cell_type": "code",
      "source": [
        "check = pd.read_csv('/content/checkset.csv')\n",
        "\n",
        "# loading training images\n",
        "check_img = []\n",
        "check_img_values = []\n",
        "for img_name in check['check_img']:\n",
        "    image_path = '/content/check_set/' + img_name\n",
        "    img = imread(image_path)\n",
        "    img = img/255\n",
        "    img = resize(img, output_shape=(3, 224, 224),\n",
        "                 mode='constant', anti_aliasing=True)\n",
        "    check_img.append(img)\n",
        "\n",
        "\n",
        "check_x = np.array(check_img)\n",
        "\n",
        "# defining the labels\n",
        "check_y = check['rebars_or_not'].values"
      ],
      "metadata": {
        "id": "bXFQFiNy12Hb"
      },
      "execution_count": 50,
      "outputs": []
    },
    {
      "cell_type": "code",
      "source": [
        "check_x = check_x.reshape(check_x.shape[0], 3, 224, 224) #1956 is the number of training images\n",
        "check_x  = torch.from_numpy(check_x)\n",
        "check_x = check_x.float()\n",
        "check_y = check_y.astype(int)\n",
        "check_y = torch.from_numpy(check_y)"
      ],
      "metadata": {
        "id": "Zhli7RPE7B2N"
      },
      "execution_count": 51,
      "outputs": []
    },
    {
      "cell_type": "code",
      "source": [
        "import sklearn\n",
        "import matplotlib.pyplot as plt\n",
        "import pandas as pd\n",
        "from sklearn.metrics import confusion_matrix\n",
        "# batch size of the model\n",
        "batch_size = 64\n",
        "# prediction for training set\n",
        "prediction = []\n",
        "target = []\n",
        "permutation = torch.randperm(check_x.size()[0])\n",
        "for i in range(0,check_x.size()[0], batch_size):\n",
        "    indices = permutation[i:i+batch_size]\n",
        "    batch_x, batch_y = check_x[indices], check_y[indices]\n",
        "\n",
        "    if torch.cuda.is_available():\n",
        "        batch_x, batch_y = batch_x.cuda(), batch_y.cuda()\n",
        "\n",
        "    with torch.no_grad():\n",
        "        output = model(batch_x.cuda())\n",
        "\n",
        "    softmax = torch.exp(output).cpu()\n",
        "    prob = list(softmax.numpy())\n",
        "    predictions = np.argmax(prob, axis=1)\n",
        "    prediction.append(predictions)\n",
        "    target.append(batch_y)\n",
        "    \n",
        "# training accuracy\n",
        "accuracy = []\n",
        "for i in range(len(prediction)):\n",
        "\n",
        "    accuracy.append(accuracy_score(target[i].cpu(),prediction[i]))\n",
        "\n",
        "# df_out=pd.DataFrame(zip(target,prediction),columns=['original','predicted'])\n",
        "# conf_mat=confusion_matrix(df_out['original'],df_out['predicted'])\n",
        "# import seaborn as sns\n",
        "# sns.heatmap(conf_mat,annot=True,fmt='.0f',cmap='Blues');\n",
        "# plt.xlabel(\"predicted values\")\n",
        "# plt.ylabel(\"true values\")\n",
        "# plt.title(\"confusion matrix\");\n",
        "print(target)\n",
        "print(prediction)"
      ],
      "metadata": {
        "id": "4PbmH_RquOXQ",
        "outputId": "68061435-0055-431a-a265-494bdcfb03e1",
        "colab": {
          "base_uri": "https://localhost:8080/"
        }
      },
      "execution_count": 52,
      "outputs": [
        {
          "output_type": "stream",
          "name": "stdout",
          "text": [
            "[tensor([0, 1, 1, 0, 1, 1, 0, 1, 1, 1, 0, 0, 1, 1, 1, 1, 1, 0, 0, 0, 1, 1, 0, 0,\n",
            "        1, 0, 1, 0, 0, 1, 0, 0, 0, 0, 1, 0, 0, 1, 0, 1], device='cuda:0')]\n",
            "[array([0, 1, 0, 0, 1, 1, 0, 1, 1, 1, 1, 1, 1, 1, 1, 1, 1, 0, 0, 0, 1, 1,\n",
            "       0, 1, 1, 1, 1, 0, 0, 1, 0, 0, 1, 0, 0, 0, 0, 1, 0, 1])]\n"
          ]
        }
      ]
    },
    {
      "cell_type": "code",
      "source": [
        "from sklearn.metrics import confusion_matrix\n",
        "\n",
        "# Convert prediction list to a list of tensors\n",
        "prediction = [torch.tensor(pred) for pred in prediction]\n",
        "\n",
        "# Concatenate prediction and target tensors\n",
        "prediction = torch.cat(prediction)\n",
        "target = torch.cat(target)\n",
        "\n",
        "# Calculate confusion matrix\n",
        "cm = confusion_matrix(target.cpu().numpy(), prediction.numpy())\n",
        "print(cm)\n",
        "\n",
        "\n",
        "import seaborn as sns\n",
        "sns.heatmap(cm,annot=True,fmt='.0f',cmap='Blues');\n",
        "plt.xlabel(\"predicted values\")\n",
        "plt.ylabel(\"true values\")\n",
        "plt.title(\"confusion matrix\");"
      ],
      "metadata": {
        "id": "AkPGGDhQ8FbQ",
        "outputId": "5f774c2f-0cee-43cd-d1b1-40d3ebd62b8e",
        "colab": {
          "base_uri": "https://localhost:8080/",
          "height": 508
        }
      },
      "execution_count": 53,
      "outputs": [
        {
          "output_type": "stream",
          "name": "stdout",
          "text": [
            "[[15  5]\n",
            " [ 2 18]]\n"
          ]
        },
        {
          "output_type": "display_data",
          "data": {
            "text/plain": [
              "<Figure size 640x480 with 2 Axes>"
            ],
            "image/png": "[encoded data removed]"
          },
          "metadata": {}
        }
      ]
    },
    {
      "cell_type": "code",
      "source": [
        "model = torch.load('CNN-model.pth')\n",
        "image_path = '/content/2.png' #Specify the image path\n",
        "img = imread(image_path)\n",
        "img = img/255\n",
        "img = resize(img, output_shape=(3, 224, 224),\n",
        "               mode='constant', anti_aliasing=True)\n",
        "img = img.astype('float32')\n",
        "img = np.array(img)\n",
        "\n",
        "img = img.reshape(1, 3, 224, 224) \n",
        "img = torch.from_numpy(img)\n",
        "img = img.float()\n",
        "\n",
        "output = model(img.cuda())\n",
        "softmax = torch.exp(output).cpu()\n",
        "prob = list(softmax.detach().numpy())\n",
        "predictions = np.argmax(prob, axis=1)\n",
        "print(predictions)\n",
        "if predictions == 0:\n",
        "  print('Image contains debris')\n",
        "else:\n",
        "  print('Image contains rebars')\n"
      ],
      "metadata": {
        "colab": {
          "base_uri": "https://localhost:8080/"
        },
        "id": "UKdm162RBFxS",
        "outputId": "152ac540-458a-4341-aa99-26af1b298ce1"
      },
      "execution_count": null,
      "outputs": [
        {
          "output_type": "stream",
          "name": "stdout",
          "text": [
            "[1]\n",
            "Image contains rebars\n"
          ]
        }
      ]
    },
    {
      "cell_type": "code",
      "source": [],
      "metadata": {
        "id": "0b52PZKLUFMT"
      },
      "execution_count": null,
      "outputs": []
    }
  ]
}